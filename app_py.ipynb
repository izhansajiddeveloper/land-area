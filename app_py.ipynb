{
  "nbformat": 4,
  "nbformat_minor": 0,
  "metadata": {
    "colab": {
      "provenance": [],
      "authorship_tag": "ABX9TyPtIFjzIWFHDLtAAVK0CeUl",
      "include_colab_link": true
    },
    "kernelspec": {
      "name": "python3",
      "display_name": "Python 3"
    },
    "language_info": {
      "name": "python"
    }
  },
  "cells": [
    {
      "cell_type": "markdown",
      "metadata": {
        "id": "view-in-github",
        "colab_type": "text"
      },
      "source": [
        "<a href=\"https://colab.research.google.com/github/izhansajiddeveloper/land-area/blob/main/app_py.ipynb\" target=\"_parent\"><img src=\"https://colab.research.google.com/assets/colab-badge.svg\" alt=\"Open In Colab\"/></a>"
      ]
    },
    {
      "cell_type": "code",
      "source": [
        "%%writefile app.py\n",
        "\n",
        "import streamlit as st\n",
        "from transformers import pipeline\n",
        "import numpy as np\n",
        "import matplotlib.pyplot as plt\n",
        "from stl import mesh  # For 3D structures in STL format\n",
        "\n",
        "# Hugging Face Models\n",
        "architecture_model = pipeline(\"text-to-image\", model=\"CompVis/stable-diffusion-v1-4\")  # Placeholder model\n",
        "color_model = pipeline(\"image-segmentation\", model=\"facebook/detectron2\")  # Placeholder for color suggestion\n",
        "\n",
        "# Streamlit Interface - Main Title and UI\n",
        "st.markdown(\"<h1 style='text-align: center; color: #FF5733;'>3D Home Architecture and Color Recommendation App</h1>\", unsafe_allow_html=True)\n",
        "st.markdown(\"<h2 style='color: #33A1FF;'>Enter your land area to generate a 3D layout and color scheme</h2>\", unsafe_allow_html=True)\n",
        "\n",
        "# Input for land area\n",
        "land_area = st.text_input(\"Enter land area (feet/inches):\")\n",
        "\n",
        "# Handle the 3D architecture generation and color suggestion\n",
        "if land_area:\n",
        "    st.markdown(f\"<h3 style='color: #FF33A6;'>Generated 3D Home Design for {land_area} Feet Area:</h3>\", unsafe_allow_html=True)\n",
        "\n",
        "    # Generate 3D architecture model using Hugging Face model\n",
        "    prompt = f\"Generate a 3D model of a home for {land_area} feet area\"\n",
        "    result = architecture_model(prompt)\n",
        "\n",
        "    # Display the generated 3D design\n",
        "    st.image(result[0]['image'], caption=\"Generated 3D Home Design\")\n",
        "\n",
        "    # Generate and display suggested colors for the home\n",
        "    st.markdown(\"<h3 style='color: #33A1FF;'>Suggested Colors for Home Interior:</h3>\", unsafe_allow_html=True)\n",
        "    color_suggestion = color_model(\"input_image.jpg\")  # Replace 'input_image.jpg' with actual image\n",
        "    st.write(color_suggestion)\n",
        "\n",
        "# Colorful UI Section - Graph with Vibrant Colors\n",
        "st.markdown(\"<h2 style='text-align: center; color: #FF5733;'>Vibrant Graph with Colorful Lines</h2>\", unsafe_allow_html=True)\n",
        "st.markdown(\"<p style='font-size:18px; color:#28B463;'>This graph showcases a sine and cosine wave with different colors.</p>\", unsafe_allow_html=True)\n",
        "\n",
        "# Generate and plot sine and cosine waves\n",
        "x = np.linspace(0, 10, 100)\n",
        "y1 = np.sin(x)\n",
        "y2 = np.cos(x)\n",
        "\n",
        "# Create a colorful plot\n",
        "fig, ax = plt.subplots()\n",
        "ax.plot(x, y1, label='Sine Wave', color='#FF5733', linewidth=2.5)  # Orange\n",
        "ax.plot(x, y2, label='Cosine Wave', color='#33A1FF', linewidth=2.5)  # Blue\n",
        "\n",
        "# Customize graph title, labels, and grid\n",
        "ax.set_title('Sine and Cosine Waves', fontsize=16, color='#FF5733')\n",
        "ax.set_xlabel('X-axis', fontsize=14, color='#33A1FF')\n",
        "ax.set_ylabel('Y-axis', fontsize=14, color='#33A1FF')\n",
        "ax.grid(True, color='#D3D3D3', linestyle='--', linewidth=1)\n",
        "ax.legend()\n",
        "\n",
        "# Display the graph in Streamlit\n",
        "st.pyplot(fig)\n",
        "\n",
        "# Footer description for graph explanation\n",
        "st.markdown(\"<h3 style='color: #FF33A6;'>Graph Explanation:</h3>\", unsafe_allow_html=True)\n",
        "st.markdown(\"<p style='font-size:16px; color:#884EA0;'>The sine wave is represented in orange, and the cosine wave is in blue.</p>\", unsafe_allow_html=True)\n",
        "st.markdown(\"<p style='text-align: center; color: #5D6D7E;'>This is a demonstration of a colorful Streamlit app.</p>\", unsafe_allow_html=True)\n"
      ],
      "metadata": {
        "colab": {
          "base_uri": "https://localhost:8080/"
        },
        "id": "OjgKZR_56Nls",
        "outputId": "2aea7bf1-01eb-45c9-8113-2ba2154b6f7c"
      },
      "execution_count": 4,
      "outputs": [
        {
          "output_type": "stream",
          "name": "stdout",
          "text": [
            "Overwriting app.py\n"
          ]
        }
      ]
    }
  ]
}